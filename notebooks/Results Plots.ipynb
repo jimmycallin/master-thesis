{
 "cells": [
  {
   "cell_type": "code",
   "execution_count": 3,
   "metadata": {
    "collapsed": false
   },
   "outputs": [
    {
     "data": {
      "text/plain": [
       "<matplotlib.figure.Figure at 0x10e28ce10>"
      ]
     },
     "metadata": {},
     "output_type": "display_data"
    }
   ],
   "source": [
    "import sys\n",
    "sys.path += [\"../utils\"]\n",
    "%matplotlib inline\n",
    "import seaborn as sns\n",
    "sns.set(font_scale=1.5, rc={'text.usetex' : True})\n",
    "sns.set_style('whitegrid')\n",
    "sns.despine(left=True)\n",
    "import results_utils "
   ]
  },
  {
   "cell_type": "code",
   "execution_count": 7,
   "metadata": {
    "collapsed": false
   },
   "outputs": [
    {
     "data": {
      "text/html": [
       "<div>\n",
       "<table border=\"1\" class=\"dataframe\">\n",
       "  <thead>\n",
       "    <tr style=\"text-align: right;\">\n",
       "      <th></th>\n",
       "      <th>ffnn</th>\n",
       "      <th>logreg</th>\n",
       "      <th>rnn</th>\n",
       "      <th>average</th>\n",
       "      <th>variance</th>\n",
       "    </tr>\n",
       "  </thead>\n",
       "  <tbody>\n",
       "    <tr>\n",
       "      <th>cbow-wikipedia</th>\n",
       "      <td>0.334700</td>\n",
       "      <td>0.318400</td>\n",
       "      <td>0.265600</td>\n",
       "      <td>0.306233</td>\n",
       "      <td>8.698156e-04</td>\n",
       "    </tr>\n",
       "    <tr>\n",
       "      <th>cw-wikipedia</th>\n",
       "      <td>0.331200</td>\n",
       "      <td>0.329600</td>\n",
       "      <td>0.326400</td>\n",
       "      <td>0.329067</td>\n",
       "      <td>3.982222e-06</td>\n",
       "    </tr>\n",
       "    <tr>\n",
       "      <th>glove-wikipedia</th>\n",
       "      <td>0.360000</td>\n",
       "      <td>0.334700</td>\n",
       "      <td>0.318400</td>\n",
       "      <td>0.337700</td>\n",
       "      <td>2.929267e-04</td>\n",
       "    </tr>\n",
       "    <tr>\n",
       "      <th>glove-wikipedia-gigawords</th>\n",
       "      <td>0.352000</td>\n",
       "      <td>0.326400</td>\n",
       "      <td>0.313600</td>\n",
       "      <td>0.330667</td>\n",
       "      <td>2.548622e-04</td>\n",
       "    </tr>\n",
       "    <tr>\n",
       "      <th>hpca-wikipedia</th>\n",
       "      <td>0.350400</td>\n",
       "      <td>0.328000</td>\n",
       "      <td>0.329600</td>\n",
       "      <td>0.336000</td>\n",
       "      <td>1.041067e-04</td>\n",
       "    </tr>\n",
       "    <tr>\n",
       "      <th>random-vectors</th>\n",
       "      <td>0.296700</td>\n",
       "      <td>0.329600</td>\n",
       "      <td>0.310400</td>\n",
       "      <td>0.312233</td>\n",
       "      <td>1.820822e-04</td>\n",
       "    </tr>\n",
       "    <tr>\n",
       "      <th>randomprojection-wikipedia</th>\n",
       "      <td>0.313600</td>\n",
       "      <td>0.320500</td>\n",
       "      <td>0.177600</td>\n",
       "      <td>0.270567</td>\n",
       "      <td>4.329336e-03</td>\n",
       "    </tr>\n",
       "    <tr>\n",
       "      <th>reproduce</th>\n",
       "      <td>0.388800</td>\n",
       "      <td>NaN</td>\n",
       "      <td>0.323200</td>\n",
       "      <td>0.356000</td>\n",
       "      <td>1.075840e-03</td>\n",
       "    </tr>\n",
       "    <tr>\n",
       "      <th>reproduce-1</th>\n",
       "      <td>0.364800</td>\n",
       "      <td>0.352800</td>\n",
       "      <td>0.328000</td>\n",
       "      <td>0.348533</td>\n",
       "      <td>2.348089e-04</td>\n",
       "    </tr>\n",
       "    <tr>\n",
       "      <th>reproduce-2</th>\n",
       "      <td>0.369600</td>\n",
       "      <td>0.352800</td>\n",
       "      <td>NaN</td>\n",
       "      <td>0.361200</td>\n",
       "      <td>7.056000e-05</td>\n",
       "    </tr>\n",
       "    <tr>\n",
       "      <th>reproduce-3</th>\n",
       "      <td>0.366400</td>\n",
       "      <td>0.352800</td>\n",
       "      <td>0.280000</td>\n",
       "      <td>0.333067</td>\n",
       "      <td>1.438862e-03</td>\n",
       "    </tr>\n",
       "    <tr>\n",
       "      <th>reproduce-4</th>\n",
       "      <td>0.358400</td>\n",
       "      <td>0.352800</td>\n",
       "      <td>0.326400</td>\n",
       "      <td>0.345867</td>\n",
       "      <td>1.947022e-04</td>\n",
       "    </tr>\n",
       "    <tr>\n",
       "      <th>rsv100-wikipedia</th>\n",
       "      <td>0.344000</td>\n",
       "      <td>0.336300</td>\n",
       "      <td>0.320000</td>\n",
       "      <td>0.333433</td>\n",
       "      <td>1.001089e-04</td>\n",
       "    </tr>\n",
       "    <tr>\n",
       "      <th>rsv50-wikipedia</th>\n",
       "      <td>0.276800</td>\n",
       "      <td>0.326900</td>\n",
       "      <td>0.332800</td>\n",
       "      <td>0.312167</td>\n",
       "      <td>6.312022e-04</td>\n",
       "    </tr>\n",
       "    <tr>\n",
       "      <th>skipgram-googlenews</th>\n",
       "      <td>0.363200</td>\n",
       "      <td>0.352800</td>\n",
       "      <td>0.307200</td>\n",
       "      <td>0.341067</td>\n",
       "      <td>5.915022e-04</td>\n",
       "    </tr>\n",
       "    <tr>\n",
       "      <th>skipgram-googlenews-1</th>\n",
       "      <td>0.364800</td>\n",
       "      <td>NaN</td>\n",
       "      <td>NaN</td>\n",
       "      <td>0.364800</td>\n",
       "      <td>0.000000e+00</td>\n",
       "    </tr>\n",
       "    <tr>\n",
       "      <th>skipgram-googlenews-2</th>\n",
       "      <td>0.361600</td>\n",
       "      <td>NaN</td>\n",
       "      <td>NaN</td>\n",
       "      <td>0.361600</td>\n",
       "      <td>0.000000e+00</td>\n",
       "    </tr>\n",
       "    <tr>\n",
       "      <th>skipgram-googlenews-3</th>\n",
       "      <td>0.353600</td>\n",
       "      <td>NaN</td>\n",
       "      <td>NaN</td>\n",
       "      <td>0.353600</td>\n",
       "      <td>0.000000e+00</td>\n",
       "    </tr>\n",
       "    <tr>\n",
       "      <th>skipgram-googlenews-4</th>\n",
       "      <td>0.350400</td>\n",
       "      <td>NaN</td>\n",
       "      <td>NaN</td>\n",
       "      <td>0.350400</td>\n",
       "      <td>0.000000e+00</td>\n",
       "    </tr>\n",
       "    <tr>\n",
       "      <th>tscca-wikipedia</th>\n",
       "      <td>0.353600</td>\n",
       "      <td>0.336000</td>\n",
       "      <td>0.316800</td>\n",
       "      <td>0.335467</td>\n",
       "      <td>2.258489e-04</td>\n",
       "    </tr>\n",
       "    <tr>\n",
       "      <th>average</th>\n",
       "      <td>0.347730</td>\n",
       "      <td>0.336693</td>\n",
       "      <td>0.305067</td>\n",
       "      <td>0.329830</td>\n",
       "      <td>3.269127e-04</td>\n",
       "    </tr>\n",
       "    <tr>\n",
       "      <th>variance</th>\n",
       "      <td>0.000692</td>\n",
       "      <td>0.000163</td>\n",
       "      <td>0.001587</td>\n",
       "      <td>0.000814</td>\n",
       "      <td>3.454098e-07</td>\n",
       "    </tr>\n",
       "  </tbody>\n",
       "</table>\n",
       "</div>"
      ],
      "text/plain": [
       "                                ffnn    logreg       rnn   average      variance\n",
       "cbow-wikipedia              0.334700  0.318400  0.265600  0.306233  8.698156e-04\n",
       "cw-wikipedia                0.331200  0.329600  0.326400  0.329067  3.982222e-06\n",
       "glove-wikipedia             0.360000  0.334700  0.318400  0.337700  2.929267e-04\n",
       "glove-wikipedia-gigawords   0.352000  0.326400  0.313600  0.330667  2.548622e-04\n",
       "hpca-wikipedia              0.350400  0.328000  0.329600  0.336000  1.041067e-04\n",
       "random-vectors              0.296700  0.329600  0.310400  0.312233  1.820822e-04\n",
       "randomprojection-wikipedia  0.313600  0.320500  0.177600  0.270567  4.329336e-03\n",
       "reproduce                   0.388800       NaN  0.323200  0.356000  1.075840e-03\n",
       "reproduce-1                 0.364800  0.352800  0.328000  0.348533  2.348089e-04\n",
       "reproduce-2                 0.369600  0.352800       NaN  0.361200  7.056000e-05\n",
       "reproduce-3                 0.366400  0.352800  0.280000  0.333067  1.438862e-03\n",
       "reproduce-4                 0.358400  0.352800  0.326400  0.345867  1.947022e-04\n",
       "rsv100-wikipedia            0.344000  0.336300  0.320000  0.333433  1.001089e-04\n",
       "rsv50-wikipedia             0.276800  0.326900  0.332800  0.312167  6.312022e-04\n",
       "skipgram-googlenews         0.363200  0.352800  0.307200  0.341067  5.915022e-04\n",
       "skipgram-googlenews-1       0.364800       NaN       NaN  0.364800  0.000000e+00\n",
       "skipgram-googlenews-2       0.361600       NaN       NaN  0.361600  0.000000e+00\n",
       "skipgram-googlenews-3       0.353600       NaN       NaN  0.353600  0.000000e+00\n",
       "skipgram-googlenews-4       0.350400       NaN       NaN  0.350400  0.000000e+00\n",
       "tscca-wikipedia             0.353600  0.336000  0.316800  0.335467  2.258489e-04\n",
       "average                     0.347730  0.336693  0.305067  0.329830  3.269127e-04\n",
       "variance                    0.000692  0.000163  0.001587  0.000814  3.454098e-07"
      ]
     },
     "execution_count": 7,
     "metadata": {},
     "output_type": "execute_result"
    }
   ],
   "source": [
    "results_utils.generate_matrix('blind-test')"
   ]
  },
  {
   "cell_type": "code",
   "execution_count": 5,
   "metadata": {
    "collapsed": false
   },
   "outputs": [
    {
     "data": {
      "text/plain": [
       "<matplotlib.axes._subplots.AxesSubplot at 0x11093ef98>"
      ]
     },
     "execution_count": 5,
     "metadata": {},
     "output_type": "execute_result"
    },
    {
     "data": {
      "image/png": "[encoded data removed]",
      "text/plain": [
       "<matplotlib.figure.Figure at 0x1109576d8>"
      ]
     },
     "metadata": {},
     "output_type": "display_data"
    }
   ],
   "source": [
    "blind_test = results_utils.generate_matrix('blind-test')\n",
    "repro = blind_test.ix[[x for x in blind_test.index if x.startswith('reproduce')]][['ffnn', 'logreg', 'rnn']]\n",
    "sns.boxplot(data=repro)"
   ]
  },
  {
   "cell_type": "code",
   "execution_count": 6,
   "metadata": {
    "collapsed": false
   },
   "outputs": [
    {
     "data": {
      "text/plain": [
       "<matplotlib.axes._subplots.AxesSubplot at 0x110896198>"
      ]
     },
     "execution_count": 6,
     "metadata": {},
     "output_type": "execute_result"
    },
    {
     "data": {
      "image/png": "[encoded data removed]",
      "text/plain": [
       "<matplotlib.figure.Figure at 0x1108a1f28>"
      ]
     },
     "metadata": {},
     "output_type": "display_data"
    }
   ],
   "source": [
    "test = results_utils.generate_matrix('test')\n",
    "repro = test.ix[[x for x in test.index if x.startswith('reproduce')]][['ffnn', 'logreg', 'rnn']]\n",
    "sns.boxplot(data=repro)"
   ]
  },
  {
   "cell_type": "code",
   "execution_count": 38,
   "metadata": {
    "collapsed": false
   },
   "outputs": [
    {
     "data": {
      "text/plain": [
       "<matplotlib.axes._subplots.AxesSubplot at 0x112c086a0>"
      ]
     },
     "execution_count": 38,
     "metadata": {},
     "output_type": "execute_result"
    },
    {
     "data": {
      "image/png": "[encoded data removed]",
      "text/plain": [
       "<matplotlib.figure.Figure at 0x112f87e80>"
      ]
     },
     "metadata": {},
     "output_type": "display_data"
    }
   ],
   "source": [
    "dev = results_utils.generate_matrix('dev')\n",
    "repro = dev.ix[[x for x in dev.index if x.startswith('reproduce')]][['ffnn', 'logreg', 'rnn']]\n",
    "sns.boxplot(data=repro)"
   ]
  },
  {
   "cell_type": "code",
   "execution_count": null,
   "metadata": {
    "collapsed": true
   },
   "outputs": [],
   "source": []
  }
 ],
 "metadata": {
  "kernelspec": {
   "display_name": "Python 3",
   "language": "python",
   "name": "python3"
  },
  "language_info": {
   "codemirror_mode": {
    "name": "ipython",
    "version": 3
   },
   "file_extension": ".py",
   "mimetype": "text/x-python",
   "name": "python",
   "nbconvert_exporter": "python",
   "pygments_lexer": "ipython3",
   "version": "3.5.2"
  }
 },
 "nbformat": 4,
 "nbformat_minor": 1
}
